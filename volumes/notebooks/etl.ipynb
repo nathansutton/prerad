{
 "cells": [
  {
   "cell_type": "code",
   "execution_count": null,
   "id": "d12005fa",
   "metadata": {},
   "outputs": [
    {
     "ename": "",
     "evalue": "",
     "output_type": "error",
     "traceback": [
      "\u001b[1;31mRunning cells with 'blip' requires ipykernel package.\n",
      "\u001b[1;31mRun the following command to install 'ipykernel' into the Python environment. \n",
      "\u001b[1;31mCommand: 'conda install -n blip ipykernel --update-deps --force-reinstall'"
     ]
    }
   ],
   "source": [
    "import pandas as pd  "
   ]
  },
  {
   "cell_type": "code",
   "execution_count": 8,
   "id": "e7eebe96",
   "metadata": {},
   "outputs": [
    {
     "data": {
      "text/plain": [
       "part                                                     p10\n",
       "patient                                            p10000032\n",
       "scan       [s50414267.txt, s53189527.txt, s53911762.txt, ...\n",
       "Name: 0, dtype: object"
      ]
     },
     "execution_count": 8,
     "metadata": {},
     "output_type": "execute_result"
    }
   ],
   "source": [
    "# one row in the control dictionary\n",
    "pd.read_json(\"/opt/physionet/control.jsonl\",lines=True).iloc[0]"
   ]
  },
  {
   "cell_type": "code",
   "execution_count": 10,
   "id": "1d191897",
   "metadata": {},
   "outputs": [
    {
     "data": {
      "text/plain": [
       "fold                                                        p10\n",
       "image         /opt/physionet/physionet.org/files/mimic-cxr-j...\n",
       "original                                       FINAL REPORT\\...\n",
       "report        /opt/physionet/physionet.org/files/mimic-cxr/2...\n",
       "patient                                               p10000764\n",
       "text          findings: pa and lateral views of the chest pr...\n",
       "indication    indication: unknown year old male with hypoxia...\n",
       "Name: 0, dtype: object"
      ]
     },
     "execution_count": 10,
     "metadata": {},
     "output_type": "execute_result"
    }
   ],
   "source": [
    "# each row contains the labels and metadata needed to train the transformer\n",
    "example = pd.read_json(\"/opt/physionet/dataset.jsonl\",lines=True).iloc[0]\n",
    "example"
   ]
  },
  {
   "cell_type": "code",
   "execution_count": 11,
   "id": "dd14ab31",
   "metadata": {},
   "outputs": [
    {
     "name": "stdout",
     "output_type": "stream",
     "text": [
      "                                 FINAL REPORT\n",
      " EXAMINATION:  CHEST (PA AND LAT)\n",
      " \n",
      " INDICATION:  ___M with hypoxia  // ?pna, aspiration.\n",
      " \n",
      " COMPARISON:  None\n",
      " \n",
      " FINDINGS: \n",
      " \n",
      " PA and lateral views of the chest provided.   The lungs are adequately\n",
      " aerated.\n",
      " \n",
      " There is a focal consolidation at the left lung base adjacent to the lateral\n",
      " hemidiaphragm. There is mild vascular engorgement. There is bilateral apical\n",
      " pleural thickening.\n",
      " \n",
      " The cardiomediastinal silhouette is remarkable for aortic arch calcifications.\n",
      " The heart is top normal in size.\n",
      " \n",
      " IMPRESSION: \n",
      " \n",
      " Focal consolidation at the left lung base, possibly representing aspiration or\n",
      " pneumonia.\n",
      " \n",
      " Central vascular engorgement.\n",
      "\n"
     ]
    }
   ],
   "source": [
    "# original text\n",
    "print(example[\"original\"])"
   ]
  },
  {
   "cell_type": "code",
   "execution_count": 12,
   "id": "ea5792df",
   "metadata": {},
   "outputs": [
    {
     "name": "stdout",
     "output_type": "stream",
     "text": [
      "findings: pa and lateral views of the chest provided. the lungs are adequately aerated. there is a focal consolidation at the left lung base adjacent to the lateral hemidiaphragm. there is mild vascular engorgement. there is bilateral apical pleural thickening. the cardiomediastinal silhouette is remarkable for aortic arch calcifications. the heart is top normal in size. impression: focal consolidation at the left lung base, possibly representing aspiration or pneumonia. central vascular engorgement.\n"
     ]
    }
   ],
   "source": [
    "# text used as a label for the model\n",
    "# no indicatin\n",
    "# no technique\n",
    "# no comparison\n",
    "print(example[\"text\"])"
   ]
  },
  {
   "cell_type": "code",
   "execution_count": 13,
   "id": "67e5bb00",
   "metadata": {},
   "outputs": [
    {
     "name": "stdout",
     "output_type": "stream",
     "text": [
      "indication: unknown year old male with hypoxia // question pna, aspiration.\n"
     ]
    }
   ],
   "source": [
    "# used as a INPUT to the model along with the image\n",
    "print(example[\"indication\"])"
   ]
  }
 ],
 "metadata": {
  "kernelspec": {
   "display_name": "blip",
   "language": "python",
   "name": "python3"
  },
  "language_info": {
   "codemirror_mode": {
    "name": "ipython",
    "version": 3
   },
   "file_extension": ".py",
   "mimetype": "text/x-python",
   "name": "python",
   "nbconvert_exporter": "python",
   "pygments_lexer": "ipython3",
   "version": "3.10.8 (main, Nov 24 2022, 08:08:27) [Clang 14.0.6 ]"
  },
  "vscode": {
   "interpreter": {
    "hash": "d2929fa862ca5c20be7df7418b9bcb368752100a819a60622976f7f091b1ba7c"
   }
  }
 },
 "nbformat": 4,
 "nbformat_minor": 5
}
